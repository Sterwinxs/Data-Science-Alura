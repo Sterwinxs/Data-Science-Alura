{
  "nbformat": 4,
  "nbformat_minor": 0,
  "metadata": {
    "colab": {
      "provenance": [],
      "authorship_tag": "ABX9TyOkH8wOJMFEJhz3FyTjEpQ7",
      "include_colab_link": true
    },
    "kernelspec": {
      "name": "python3",
      "display_name": "Python 3"
    },
    "language_info": {
      "name": "python"
    }
  },
  "cells": [
    {
      "cell_type": "markdown",
      "metadata": {
        "id": "view-in-github",
        "colab_type": "text"
      },
      "source": [
        "<a href=\"https://colab.research.google.com/github/Sterwinxs/Formacao-Data-Science/blob/main/8-%20Calcular_M%C3%A9dia_de_uma_Coluna_.ipynb\" target=\"_parent\"><img src=\"https://colab.research.google.com/assets/colab-badge.svg\" alt=\"Open In Colab\"/></a>"
      ]
    },
    {
      "cell_type": "code",
      "execution_count": 2,
      "metadata": {
        "id": "gNZPgKZPyM-L"
      },
      "outputs": [],
      "source": [
        "import pandas as pd"
      ]
    },
    {
      "cell_type": "markdown",
      "source": [
        " Leitura de Arquivo CSV, atribuindo o próprio para uma Variável."
      ],
      "metadata": {
        "id": "G2tbYgGrzkv7"
      }
    },
    {
      "cell_type": "code",
      "source": [
        "base = pd.read_csv(\"ratings.csv\")"
      ],
      "metadata": {
        "id": "irO8HgbAzjOy"
      },
      "execution_count": 5,
      "outputs": []
    },
    {
      "cell_type": "markdown",
      "source": [
        "podemos contar quanto foi a média de notas desta forma:"
      ],
      "metadata": {
        "id": "yIzYuevh5UHK"
      }
    },
    {
      "cell_type": "code",
      "source": [
        "base['nota'].mean()"
      ],
      "metadata": {
        "colab": {
          "base_uri": "https://localhost:8080/"
        },
        "id": "LAcciJgW5YrV",
        "outputId": "27ead263-0154-4761-fbd2-5be27f2c59d6"
      },
      "execution_count": 9,
      "outputs": [
        {
          "output_type": "execute_result",
          "data": {
            "text/plain": [
              "3.5669506081143814"
            ]
          },
          "metadata": {},
          "execution_count": 9
        }
      ]
    }
  ]
}