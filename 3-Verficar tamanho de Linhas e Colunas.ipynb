{
  "nbformat": 4,
  "nbformat_minor": 0,
  "metadata": {
    "colab": {
      "provenance": [],
      "authorship_tag": "ABX9TyM+rPd2otQN1LOi2RePTy5P",
      "include_colab_link": true
    },
    "kernelspec": {
      "name": "python3",
      "display_name": "Python 3"
    },
    "language_info": {
      "name": "python"
    }
  },
  "cells": [
    {
      "cell_type": "markdown",
      "metadata": {
        "id": "view-in-github",
        "colab_type": "text"
      },
      "source": [
        "<a href=\"https://colab.research.google.com/github/Sterwinxs/Formacao-Data-Science/blob/main/3-Verficar%20tamanho%20de%20Linhas%20e%20Colunas.ipynb\" target=\"_parent\"><img src=\"https://colab.research.google.com/assets/colab-badge.svg\" alt=\"Open In Colab\"/></a>"
      ]
    },
    {
      "cell_type": "code",
      "execution_count": null,
      "metadata": {
        "id": "gNZPgKZPyM-L"
      },
      "outputs": [],
      "source": [
        "import pandas as pd"
      ]
    },
    {
      "cell_type": "markdown",
      "source": [
        " Leitura de Arquivo CSV, atribuindo o próprio para uma Variável."
      ],
      "metadata": {
        "id": "G2tbYgGrzkv7"
      }
    },
    {
      "cell_type": "code",
      "source": [
        "base = pd.read_csv(\"ratings.csv\")"
      ],
      "metadata": {
        "id": "irO8HgbAzjOy"
      },
      "execution_count": null,
      "outputs": []
    },
    {
      "cell_type": "markdown",
      "source": [
        "Utilizamos base.shape para verificar o tamanho de linhas e colinas."
      ],
      "metadata": {
        "id": "AkwQVh6N0sMR"
      }
    },
    {
      "cell_type": "code",
      "source": [
        "base.shape"
      ],
      "metadata": {
        "colab": {
          "base_uri": "https://localhost:8080/"
        },
        "id": "YNixpi7p0uWX",
        "outputId": "b4487349-8aea-48c4-c660-7f6623c22d85"
      },
      "execution_count": 4,
      "outputs": [
        {
          "output_type": "execute_result",
          "data": {
            "text/plain": [
              "(100836, 4)"
            ]
          },
          "metadata": {},
          "execution_count": 4
        }
      ]
    }
  ]
}