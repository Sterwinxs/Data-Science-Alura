{
  "nbformat": 4,
  "nbformat_minor": 0,
  "metadata": {
    "colab": {
      "provenance": [],
      "authorship_tag": "ABX9TyNKUOL+pcdTmxrNy5cV1lfB",
      "include_colab_link": true
    },
    "kernelspec": {
      "name": "python3",
      "display_name": "Python 3"
    },
    "language_info": {
      "name": "python"
    }
  },
  "cells": [
    {
      "cell_type": "markdown",
      "metadata": {
        "id": "view-in-github",
        "colab_type": "text"
      },
      "source": [
        "<a href=\"https://colab.research.google.com/github/Sterwinxs/Formacao-Data-Science/blob/main/9_Calcular_Mediana_de_uma_Coluna_.ipynb\" target=\"_parent\"><img src=\"https://colab.research.google.com/assets/colab-badge.svg\" alt=\"Open In Colab\"/></a>"
      ]
    },
    {
      "cell_type": "code",
      "execution_count": 2,
      "metadata": {
        "id": "gNZPgKZPyM-L"
      },
      "outputs": [],
      "source": [
        "import pandas as pd"
      ]
    },
    {
      "cell_type": "markdown",
      "source": [
        " Leitura de Arquivo CSV, atribuindo o próprio para uma Variável."
      ],
      "metadata": {
        "id": "G2tbYgGrzkv7"
      }
    },
    {
      "cell_type": "code",
      "source": [
        "base = pd.read_csv(\"ratings.csv\")"
      ],
      "metadata": {
        "id": "irO8HgbAzjOy"
      },
      "execution_count": 5,
      "outputs": []
    },
    {
      "cell_type": "markdown",
      "source": [
        "podemos contar quanto foi a mediana de notas desta forma:"
      ],
      "metadata": {
        "id": "yIzYuevh5UHK"
      }
    },
    {
      "cell_type": "code",
      "source": [
        "base['nota'].median()"
      ],
      "metadata": {
        "colab": {
          "base_uri": "https://localhost:8080/"
        },
        "id": "98fuzEHbjLKf",
        "outputId": "0dde9a22-4e68-4d4e-b3e7-bb11e362a96e"
      },
      "execution_count": 10,
      "outputs": [
        {
          "output_type": "execute_result",
          "data": {
            "text/plain": [
              "4.0"
            ]
          },
          "metadata": {},
          "execution_count": 10
        }
      ]
    }
  ]
}